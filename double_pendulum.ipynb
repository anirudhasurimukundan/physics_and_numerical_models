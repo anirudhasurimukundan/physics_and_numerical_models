{
 "cells": [
  {
   "cell_type": "markdown",
   "id": "63e4e30f",
   "metadata": {},
   "source": [
    "# Double pendulum"
   ]
  },
  {
   "cell_type": "code",
   "execution_count": 124,
   "id": "08e99337",
   "metadata": {},
   "outputs": [],
   "source": [
    "%matplotlib notebook\n",
    "# above line is added to display the live animation\n",
    "\n",
    "#import packages\n",
    "import numpy as np\n",
    "import matplotlib.pyplot as plt\n",
    "import matplotlib.animation as animation\n",
    "# from IPython.display import HTML # to display video in Jupyter Notebook as a mp4 video"
   ]
  },
  {
   "cell_type": "code",
   "execution_count": null,
   "id": "4c95dff6",
   "metadata": {},
   "outputs": [],
   "source": [
    "# Setup the physical constants\n",
    "g = 9.8  # acceleration due to gravity\n",
    "l1 = 1  # length of pendulum 1\n",
    "l2 = 1  # length of pendulum 2\n",
    "m1 = 1  # mass of pendulum 1\n",
    "m2 = 1  # mass of pendulum 2"
   ]
  },
  {
   "cell_type": "code",
   "execution_count": null,
   "id": "cfa124f7",
   "metadata": {},
   "outputs": [],
   "source": [
    "# Setup the initial conditions\n",
    "theta1_0 = np.pi / 2\n",
    "theta2_0 = np.pi / 2\n",
    "omega1_0 = 0\n",
    "omega2_0 = 0"
   ]
  },
  {
   "cell_type": "code",
   "execution_count": null,
   "id": "afcd6d5a",
   "metadata": {},
   "outputs": [],
   "source": [
    "# Fix the number of time steps and time step size\n",
    "dt = 0.01\n",
    "steps = 2000"
   ]
  },
  {
   "cell_type": "code",
   "execution_count": null,
   "id": "6c1f182e",
   "metadata": {},
   "outputs": [],
   "source": [
    "# Calculate the derivatives of theta1 and theta2\n",
    "def derivatives(state, t):\n",
    "    theta1, theta2, omega1, omega2 = state\n",
    "    dydx = np.zeros_like(state)\n",
    "    dydx[0] = omega1\n",
    "    dydx[1] = omega2\n",
    "\n",
    "    delta = theta2 - theta1\n",
    "    den1 = (m1 + m2) * l1 - m2 * l1 * np.cos(delta) * np.cos(delta)\n",
    "    dydx[2] = (m2 * l1 * omega1 * omega1 * np.sin(delta) * np.cos(delta) +\n",
    "               m2 * g * np.sin(theta2) * np.cos(delta) +\n",
    "               m2 * l2 * omega2 * omega2 * np.sin(delta) -\n",
    "               (m1 + m2) * g * np.sin(theta1)) / den1\n",
    "\n",
    "    dydx[3] = (-m2 * l2 * omega2 * omega2 * np.sin(delta) * np.cos(delta) +\n",
    "               (m1 + m2) * g * np.sin(theta1) * np.cos(delta) -\n",
    "               (m1 + m2) * l1 * omega1 * omega1 * np.sin(delta) -\n",
    "               (m1 + m2) * g * np.sin(theta2)) / (l2 * den1)\n",
    "    return dydx"
   ]
  },
  {
   "cell_type": "code",
   "execution_count": null,
   "id": "ac44af8a",
   "metadata": {},
   "outputs": [],
   "source": [
    "# Integrate the equations of motion using the RK4 method\n",
    "def integrate(state, t):\n",
    "    k1 = dt * derivatives(state, t)\n",
    "    k2 = dt * derivatives(state + 0.5 * k1, t + 0.5 * dt)\n",
    "    k3 = dt * derivatives(state + 0.5 * k2, t + 0.5 * dt)\n",
    "    k4 = dt * derivatives(state + k3, t + dt)\n",
    "    return state + (k1 + 2 * k2 + 2 * k3 + k4) / 6"
   ]
  },
  {
   "cell_type": "code",
   "execution_count": null,
   "id": "2d2044cd",
   "metadata": {},
   "outputs": [],
   "source": [
    "# Calculate the positions of the pendulums\n",
    "def calculate_positions(state):\n",
    "    x1 = l1 * np.sin(state[0])\n",
    "    y1 = -l1 * np.cos(state[0])\n",
    "    x2 = x1 + l2 * np.sin(state[1])\n",
    "    y2 = y1 - l2 * np.cos(state[1])\n",
    "    return x1, y1, x2, y2"
   ]
  },
  {
   "cell_type": "code",
   "execution_count": null,
   "id": "4ee569b4",
   "metadata": {},
   "outputs": [],
   "source": [
    "# Set up the initial state\n",
    "state = np.array([theta1_0, theta2_0, omega1_0, omega2_0])\n",
    "t = np.arange(0, steps * dt, dt)\n",
    "x1_list = []\n",
    "y1_list = []\n",
    "x2_list = []\n",
    "y2_list = []"
   ]
  },
  {
   "cell_type": "code",
   "execution_count": null,
   "id": "39a4b413",
   "metadata": {},
   "outputs": [],
   "source": [
    "# Simulate the double pendulum - position of the bobs of the two pendulums\n",
    "for i in range(steps):\n",
    "    x1, y1, x2, y2 = calculate_positions(state)\n",
    "    x1_list.append(x1)\n",
    "    y1_list.append(y1)\n",
    "    x2_list.append(x2)\n",
    "    y2_list.append(y2)\n",
    "    state = integrate(state, t[i])"
   ]
  },
  {
   "cell_type": "code",
   "execution_count": null,
   "id": "b2a76b6c",
   "metadata": {},
   "outputs": [],
   "source": [
    "# Update the animation for each frame\n",
    "def animate(i):\n",
    "    x1 = [0, x1_list[i]]\n",
    "    y1 = [0, y1_list[i]]\n",
    "    x2 = [x1_list[i], x2_list[i]]\n",
    "    y2 = [y1_list[i], y2_list[i]]\n",
    "    x3 = x1_list[:i]\n",
    "    y3 = y1_list[:i]\n",
    "    x4 = x2_list[:i]\n",
    "    y4 = y2_list[:i]\n",
    "    line1.set_data(x1, y1)\n",
    "    line2.set_data(x2, y2)\n",
    "    line3.set_data(x3, y3)\n",
    "    line4.set_data(x4, y4)\n",
    "    return line1, line2, line3, line4"
   ]
  },
  {
   "cell_type": "code",
   "execution_count": null,
   "id": "4e5ff55f",
   "metadata": {},
   "outputs": [],
   "source": [
    "# Setup the figure for animation\n",
    "fig = plt.figure()\n",
    "ax = fig.add_subplot(111, autoscale_on=False, xlim=(-2, 2), ylim=(-2, 2))\n",
    "ax.set_aspect('equal')\n",
    "line3, = ax.plot([], [], '-', lw=1, color='red') # color of top pendulum's bob position tracker line\n",
    "line4, = ax.plot([], [], '--', lw=1, color='black') # color of bottom pendulum's bob position tracker line\n",
    "line1, = ax.plot([], [], '-', lw=2, color='red') # color of top pendulum\n",
    "line2, = ax.plot([], [], '-', lw=2, color='black') # color of bottom pendulum\n",
    "\n",
    "# Initialize the animation\n",
    "def init():\n",
    "    line1.set_data([], [])\n",
    "    line2.set_data([], [])\n",
    "    line3.set_data([], [])\n",
    "    line4.set_data([], [])\n",
    "    return line1, line2, line3, line4\n",
    "\n",
    "# Run the animation\n",
    "animated_video = animation.FuncAnimation(fig, animate, np.arange(1, len(y1_list)),\n",
    "                              interval=1, blit=True, init_func=init)\n",
    "\n",
    "# Show the animation video\n",
    "plt.title(\"Oscillation of a double pendulum\")\n",
    "plt.xlabel(\"$x$\")\n",
    "plt.ylabel(\"$y$\")\n",
    "plt.legend([\"Top pendulum position\", \"Bottom pendulum position\"])\n",
    "plt.tight_layout()\n",
    "plt.show()\n",
    "\n",
    "# # Show the animation video in mp4 format\n",
    "# HTML(animated_video.to_html5_video())"
   ]
  },
  {
   "cell_type": "code",
   "execution_count": null,
   "id": "e2188f0d",
   "metadata": {},
   "outputs": [],
   "source": []
  }
 ],
 "metadata": {
  "kernelspec": {
   "display_name": "Python 3 (ipykernel)",
   "language": "python",
   "name": "python3"
  },
  "language_info": {
   "codemirror_mode": {
    "name": "ipython",
    "version": 3
   },
   "file_extension": ".py",
   "mimetype": "text/x-python",
   "name": "python",
   "nbconvert_exporter": "python",
   "pygments_lexer": "ipython3",
   "version": "3.9.16"
  }
 },
 "nbformat": 4,
 "nbformat_minor": 5
}
