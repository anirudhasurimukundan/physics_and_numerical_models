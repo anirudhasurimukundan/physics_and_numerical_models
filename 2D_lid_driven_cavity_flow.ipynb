{
 "cells": [
  {
   "cell_type": "markdown",
   "id": "9863ebf0",
   "metadata": {},
   "source": [
    "# 2D Lid-driven cavity flow"
   ]
  },
  {
   "cell_type": "code",
   "execution_count": 1,
   "id": "1aa0db42",
   "metadata": {},
   "outputs": [],
   "source": [
    "# import necessary packages\n",
    "import numpy as np\n",
    "import matplotlib.pyplot as plt"
   ]
  },
  {
   "cell_type": "code",
   "execution_count": 2,
   "id": "962a036c",
   "metadata": {},
   "outputs": [],
   "source": [
    "# Set the parameters\n",
    "Lx, Ly = 1.0, 1.0  # Domain size\n",
    "nx, ny = 101, 101  # Number of grid points\n",
    "dx, dy = Lx/(nx-1), Ly/(ny-1)  # Grid spacing\n",
    "Re = 100.0  # Reynolds number\n",
    "dt = 0.001  # Time step\n",
    "T = 10.0  # Final time"
   ]
  },
  {
   "cell_type": "code",
   "execution_count": 3,
   "id": "f977f05d",
   "metadata": {},
   "outputs": [],
   "source": [
    "# Setup the computational grid\n",
    "x = np.linspace(0.0, Lx, nx)\n",
    "y = np.linspace(0.0, Ly, ny)\n",
    "X, Y = np.meshgrid(x, y)"
   ]
  },
  {
   "cell_type": "code",
   "execution_count": null,
   "id": "3e83da66",
   "metadata": {},
   "outputs": [],
   "source": []
  }
 ],
 "metadata": {
  "kernelspec": {
   "display_name": "Python 3 (ipykernel)",
   "language": "python",
   "name": "python3"
  },
  "language_info": {
   "codemirror_mode": {
    "name": "ipython",
    "version": 3
   },
   "file_extension": ".py",
   "mimetype": "text/x-python",
   "name": "python",
   "nbconvert_exporter": "python",
   "pygments_lexer": "ipython3",
   "version": "3.9.16"
  }
 },
 "nbformat": 4,
 "nbformat_minor": 5
}
